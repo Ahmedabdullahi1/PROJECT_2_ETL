{
 "cells": [
  {
   "cell_type": "code",
   "execution_count": null,
   "id": "d0496309",
   "metadata": {},
   "outputs": [],
   "source": [
    "import pandas as pd\n",
    "pd.options.mode.chained_assignment = None #allows writing upon temporary DFs\n",
    "import numpy as np\n",
    "import matplotlib.pyplot as plt\n",
    "from sqlalchemy import create_engine\n",
    "\n",
    "pwd_postgresql= #***enter password here***"
   ]
  },
  {
   "cell_type": "code",
   "execution_count": null,
   "id": "dea34e27",
   "metadata": {},
   "outputs": [],
   "source": [
    "#read in the kaggle file \n",
    "kgldf = pd.read_csv(\"all_weekly_excess_deaths.csv\")"
   ]
  },
  {
   "cell_type": "code",
   "execution_count": null,
   "id": "f7d9da46",
   "metadata": {
    "scrolled": true
   },
   "outputs": [],
   "source": [
    "# keep only the (potentially) relevant info\n",
    "kgl= kgldf[['country', 'start_date', 'end_date', 'week', 'population', 'excess_deaths', 'excess_deaths_per_100k']]\n"
   ]
  },
  {
   "cell_type": "code",
   "execution_count": null,
   "id": "0d254ee5",
   "metadata": {},
   "outputs": [],
   "source": [
    "# check date data type\n",
    "\n",
    "print(kgl.dtypes)"
   ]
  },
  {
   "cell_type": "code",
   "execution_count": null,
   "id": "54e4cf6c",
   "metadata": {},
   "outputs": [],
   "source": [
    "kgl.head()"
   ]
  },
  {
   "cell_type": "code",
   "execution_count": null,
   "id": "0f8c24af",
   "metadata": {},
   "outputs": [],
   "source": [
    "# create new variable that has dates in python's date format\n",
    "kgl['newstartdate']=pd.to_datetime(kgl['start_date'].copy())"
   ]
  },
  {
   "cell_type": "code",
   "execution_count": null,
   "id": "14857bef",
   "metadata": {},
   "outputs": [],
   "source": [
    "print(kgl.dtypes)"
   ]
  },
  {
   "cell_type": "code",
   "execution_count": null,
   "id": "22ca960c",
   "metadata": {},
   "outputs": [],
   "source": [
    "# do the same for the end dates\n",
    "kgl['newenddate']=pd.to_datetime(kgl['end_date'])"
   ]
  },
  {
   "cell_type": "code",
   "execution_count": null,
   "id": "0604a662",
   "metadata": {},
   "outputs": [],
   "source": [
    "# to estimate the period of the final combined dataset, we decided the common start and end dates for countries between datasets \n",
    "# we start with identifying the latest date a country begins to provide data \n",
    "lateststartdatekgl= kgl.groupby('country')['newstartdate'].min()"
   ]
  },
  {
   "cell_type": "code",
   "execution_count": null,
   "id": "1b23ec33",
   "metadata": {},
   "outputs": [],
   "source": [
    "#we see that the latest starting date is Dec 2019\n",
    "lateststartdatekgl.unique()"
   ]
  },
  {
   "cell_type": "code",
   "execution_count": null,
   "id": "3c70803a",
   "metadata": {},
   "outputs": [],
   "source": [
    "# carry out the same process for the end date: these are the earliest dates a country ends their data output\n",
    "# we identify the earliest date a country ends their data output\n",
    "earliestenddatekgl= kgl.groupby('country')['newenddate'].max()"
   ]
  },
  {
   "cell_type": "code",
   "execution_count": null,
   "id": "1071093e",
   "metadata": {
    "scrolled": true
   },
   "outputs": [],
   "source": [
    "# change the groupby output to DF format to allow other commands to work on it\n",
    "earliestenddatekgl.to_frame()"
   ]
  },
  {
   "cell_type": "code",
   "execution_count": null,
   "id": "1f6d524d",
   "metadata": {},
   "outputs": [],
   "source": [
    "#this shows that most countries end their data in July 2022\n",
    "earliestenddatekgl.plot()"
   ]
  },
  {
   "cell_type": "code",
   "execution_count": null,
   "id": "bc95de4d",
   "metadata": {
    "scrolled": true
   },
   "outputs": [],
   "source": [
    "earliestenddatekgl.unique()"
   ]
  },
  {
   "cell_type": "code",
   "execution_count": null,
   "id": "a7514478",
   "metadata": {},
   "outputs": [],
   "source": [
    "#change 'newstartdate' to 'newdate' to allow merge on this variable with the OWID dataset\n",
    "kgl.rename(columns={'newstartdate':'newdate'}, inplace=True)"
   ]
  },
  {
   "cell_type": "code",
   "execution_count": null,
   "id": "0f038aa4",
   "metadata": {},
   "outputs": [],
   "source": [
    "#drop unnecessary columns\n",
    "kgl.drop(['start_date', 'end_date', 'week', 'population', 'newenddate'], axis=1, inplace=True)"
   ]
  },
  {
   "cell_type": "code",
   "execution_count": null,
   "id": "74cabb66",
   "metadata": {},
   "outputs": [],
   "source": [
    "#now we read in the 'our world in data (OWID)' file\n",
    "owiddf = pd.read_csv(\"owid-covid-data.csv\")"
   ]
  },
  {
   "cell_type": "code",
   "execution_count": null,
   "id": "d5088264",
   "metadata": {},
   "outputs": [],
   "source": [
    "#select relevant columns & variables\n",
    "owid= owiddf[['location', 'date', 'new_cases', 'population']]"
   ]
  },
  {
   "cell_type": "code",
   "execution_count": null,
   "id": "99e3ed38",
   "metadata": {},
   "outputs": [],
   "source": [
    "#repeat the process performed with the kaggle dataset above\n",
    "#make new date format date variable\n",
    "owid['newdate']=pd.to_datetime(owid['date'])"
   ]
  },
  {
   "cell_type": "code",
   "execution_count": null,
   "id": "c2e36968",
   "metadata": {
    "scrolled": true
   },
   "outputs": [],
   "source": [
    "print(owid.dtypes)"
   ]
  },
  {
   "cell_type": "code",
   "execution_count": null,
   "id": "442e8655",
   "metadata": {
    "scrolled": false
   },
   "outputs": [],
   "source": [
    "owid['incidence']=owid['new_cases']/owid['population']*100000"
   ]
  },
  {
   "cell_type": "code",
   "execution_count": null,
   "id": "939040bc",
   "metadata": {},
   "outputs": [],
   "source": [
    "owid"
   ]
  },
  {
   "cell_type": "code",
   "execution_count": null,
   "id": "ad4822b0",
   "metadata": {},
   "outputs": [],
   "source": [
    "#change the country info to the same name as the kaggle data\n",
    "owid.rename(columns={'location':'country'}, inplace=True)"
   ]
  },
  {
   "cell_type": "code",
   "execution_count": null,
   "id": "855b4222",
   "metadata": {},
   "outputs": [],
   "source": [
    "#get latest 'start of data' date for each country\n",
    "lateststartdateowid= owid.groupby('country')['newdate'].min()"
   ]
  },
  {
   "cell_type": "code",
   "execution_count": null,
   "id": "bcebea5e",
   "metadata": {},
   "outputs": [],
   "source": [
    "#change output to DF format\n",
    "lateststartdateowid= lateststartdateowid.to_frame()"
   ]
  },
  {
   "cell_type": "code",
   "execution_count": null,
   "id": "38a9d9d1",
   "metadata": {},
   "outputs": [],
   "source": [
    "#this is later than the kaggle start date, so we use data from 1/3/2020\n",
    "lateststartdateowid.describe()"
   ]
  },
  {
   "cell_type": "code",
   "execution_count": null,
   "id": "360d960a",
   "metadata": {
    "scrolled": false
   },
   "outputs": [],
   "source": [
    "#visual representation showing the spread of data\n",
    "lateststartdateowid.plot()"
   ]
  },
  {
   "cell_type": "code",
   "execution_count": null,
   "id": "8ddb0968",
   "metadata": {},
   "outputs": [],
   "source": [
    "#get earliest 'final data date' of each country\n",
    "earliestenddateowid= owid.groupby('country')['newdate'].max()"
   ]
  },
  {
   "cell_type": "code",
   "execution_count": null,
   "id": "585d38b1",
   "metadata": {
    "scrolled": false
   },
   "outputs": [],
   "source": [
    "earliestenddateowid.to_frame()"
   ]
  },
  {
   "cell_type": "code",
   "execution_count": null,
   "id": "f96bf7b1",
   "metadata": {},
   "outputs": [],
   "source": [
    "earliestenddateowid.describe()"
   ]
  },
  {
   "cell_type": "code",
   "execution_count": null,
   "id": "bc4ae475",
   "metadata": {
    "scrolled": true
   },
   "outputs": [],
   "source": [
    "#this is later than the kaggle data, so we use 31/7/2022 as the last date\n",
    "earliestenddateowid.plot()\n"
   ]
  },
  {
   "cell_type": "code",
   "execution_count": null,
   "id": "90a63737",
   "metadata": {},
   "outputs": [],
   "source": [
    "owidweekly= owid"
   ]
  },
  {
   "cell_type": "code",
   "execution_count": null,
   "id": "ce597db0",
   "metadata": {},
   "outputs": [],
   "source": [
    "print(owid.dtypes)"
   ]
  },
  {
   "cell_type": "code",
   "execution_count": null,
   "id": "825f3e38",
   "metadata": {},
   "outputs": [],
   "source": [
    "owidweekly= owid.groupby('country')['newdate', 'new_cases', 'incidence',].resample('W-Mon', label='right', closed='right', on='newdate').sum().reset_index()"
   ]
  },
  {
   "cell_type": "code",
   "execution_count": null,
   "id": "5ea92f5b",
   "metadata": {
    "scrolled": true
   },
   "outputs": [],
   "source": [
    "owidweekly"
   ]
  },
  {
   "cell_type": "code",
   "execution_count": null,
   "id": "beaa2d3c",
   "metadata": {},
   "outputs": [],
   "source": [
    "#merge on country and dates that fall between 1/3/20 and 31/7/22\n",
    "mergeddf= owidweekly.merge(kgl, on=['country', 'newdate'])"
   ]
  },
  {
   "cell_type": "code",
   "execution_count": null,
   "id": "679bc664",
   "metadata": {
    "scrolled": true
   },
   "outputs": [],
   "source": [
    "mergeddf"
   ]
  },
  {
   "cell_type": "markdown",
   "id": "17e186e3",
   "metadata": {},
   "source": [
    "__Connecting to the local database__"
   ]
  },
  {
   "cell_type": "code",
   "execution_count": null,
   "id": "fa645057",
   "metadata": {},
   "outputs": [],
   "source": [
    "protocol = 'postgresql'\n",
    "username = 'postgres'  \n",
    "password = pwd_postgresql\n",
    "host = 'localhost'\n",
    "port = 5432                \n",
    "database_name = 'covid_db'\n",
    "rds_connection_string = f'{protocol}://{username}:{password}@{host}:{port}/{database_name}'\n",
    "engine = create_engine(rds_connection_string)"
   ]
  },
  {
   "cell_type": "code",
   "execution_count": null,
   "id": "5316481c",
   "metadata": {},
   "outputs": [],
   "source": [
    "#Checking that the table has been created\n",
    "engine.table_names()"
   ]
  },
  {
   "cell_type": "code",
   "execution_count": null,
   "id": "c8fd019c",
   "metadata": {},
   "outputs": [],
   "source": [
    "#Using pandas to load dataframe into database\n",
    "mergeddf.to_sql(name='covid_deaths', con=engine, if_exists='append', index=False)"
   ]
  },
  {
   "cell_type": "code",
   "execution_count": null,
   "id": "cc8fdfb1",
   "metadata": {},
   "outputs": [],
   "source": [
    "pd.read_sql_query('select * from covid_deaths', con=engine)"
   ]
  }
 ],
 "metadata": {
  "kernelspec": {
   "display_name": "Python 3 (ipykernel)",
   "language": "python",
   "name": "python3"
  },
  "language_info": {
   "codemirror_mode": {
    "name": "ipython",
    "version": 3
   },
   "file_extension": ".py",
   "mimetype": "text/x-python",
   "name": "python",
   "nbconvert_exporter": "python",
   "pygments_lexer": "ipython3",
   "version": "3.9.12"
  }
 },
 "nbformat": 4,
 "nbformat_minor": 5
}
