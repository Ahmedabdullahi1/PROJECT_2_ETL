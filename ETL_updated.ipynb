{
 "cells": [
  {
   "cell_type": "code",
   "execution_count": 1,
   "id": "d0496309",
   "metadata": {},
   "outputs": [],
   "source": [
    "import pandas as pd\n",
    "pd.options.mode.chained_assignment = None #allows writing upon temporary DFs\n",
    "import numpy as np\n",
    "import matplotlib.pyplot as plt"
   ]
  },
  {
   "cell_type": "code",
   "execution_count": 2,
   "id": "dea34e27",
   "metadata": {},
   "outputs": [],
   "source": [
    "#read in the kaggle file \n",
    "kgldf = pd.read_csv(\"all_weekly_excess_deaths.csv\")"
   ]
  },
  {
   "cell_type": "code",
   "execution_count": 8,
   "id": "f7d9da46",
   "metadata": {
    "scrolled": true
   },
   "outputs": [],
   "source": [
    "# keep only the (potentially) relevant info\n",
    "kgl= kgldf[['country', 'start_date', 'end_date', 'week', 'population', 'excess_deaths', 'excess_deaths_per_100k']]\n"
   ]
  },
  {
   "cell_type": "code",
   "execution_count": 4,
   "id": "0d254ee5",
   "metadata": {},
   "outputs": [
    {
     "name": "stdout",
     "output_type": "stream",
     "text": [
      "country                    object\n",
      "start_date                 object\n",
      "end_date                   object\n",
      "week                        int64\n",
      "population                  int64\n",
      "excess_deaths             float64\n",
      "excess_deaths_per_100k    float64\n",
      "dtype: object\n"
     ]
    }
   ],
   "source": [
    "# check date data type\n",
    "\n",
    "print(kgl.dtypes)"
   ]
  },
  {
   "cell_type": "code",
   "execution_count": 9,
   "id": "54e4cf6c",
   "metadata": {},
   "outputs": [
    {
     "data": {
      "text/html": [
       "<div>\n",
       "<style scoped>\n",
       "    .dataframe tbody tr th:only-of-type {\n",
       "        vertical-align: middle;\n",
       "    }\n",
       "\n",
       "    .dataframe tbody tr th {\n",
       "        vertical-align: top;\n",
       "    }\n",
       "\n",
       "    .dataframe thead th {\n",
       "        text-align: right;\n",
       "    }\n",
       "</style>\n",
       "<table border=\"1\" class=\"dataframe\">\n",
       "  <thead>\n",
       "    <tr style=\"text-align: right;\">\n",
       "      <th></th>\n",
       "      <th>country</th>\n",
       "      <th>start_date</th>\n",
       "      <th>end_date</th>\n",
       "      <th>week</th>\n",
       "      <th>population</th>\n",
       "      <th>excess_deaths</th>\n",
       "      <th>excess_deaths_per_100k</th>\n",
       "    </tr>\n",
       "  </thead>\n",
       "  <tbody>\n",
       "    <tr>\n",
       "      <th>0</th>\n",
       "      <td>Australia</td>\n",
       "      <td>2019-12-30</td>\n",
       "      <td>2020-01-05</td>\n",
       "      <td>1</td>\n",
       "      <td>25921089</td>\n",
       "      <td>-39.372893</td>\n",
       "      <td>-0.151895</td>\n",
       "    </tr>\n",
       "    <tr>\n",
       "      <th>1</th>\n",
       "      <td>Australia</td>\n",
       "      <td>2020-01-06</td>\n",
       "      <td>2020-01-12</td>\n",
       "      <td>2</td>\n",
       "      <td>25921089</td>\n",
       "      <td>-54.539560</td>\n",
       "      <td>-0.210406</td>\n",
       "    </tr>\n",
       "    <tr>\n",
       "      <th>2</th>\n",
       "      <td>Australia</td>\n",
       "      <td>2020-01-13</td>\n",
       "      <td>2020-01-19</td>\n",
       "      <td>3</td>\n",
       "      <td>25921089</td>\n",
       "      <td>-18.039560</td>\n",
       "      <td>-0.069594</td>\n",
       "    </tr>\n",
       "    <tr>\n",
       "      <th>3</th>\n",
       "      <td>Australia</td>\n",
       "      <td>2020-01-20</td>\n",
       "      <td>2020-01-26</td>\n",
       "      <td>4</td>\n",
       "      <td>25921089</td>\n",
       "      <td>66.627107</td>\n",
       "      <td>0.257038</td>\n",
       "    </tr>\n",
       "    <tr>\n",
       "      <th>4</th>\n",
       "      <td>Australia</td>\n",
       "      <td>2020-01-27</td>\n",
       "      <td>2020-02-02</td>\n",
       "      <td>5</td>\n",
       "      <td>25921089</td>\n",
       "      <td>9.960440</td>\n",
       "      <td>0.038426</td>\n",
       "    </tr>\n",
       "  </tbody>\n",
       "</table>\n",
       "</div>"
      ],
      "text/plain": [
       "     country  start_date    end_date  week  population  excess_deaths  \\\n",
       "0  Australia  2019-12-30  2020-01-05     1    25921089     -39.372893   \n",
       "1  Australia  2020-01-06  2020-01-12     2    25921089     -54.539560   \n",
       "2  Australia  2020-01-13  2020-01-19     3    25921089     -18.039560   \n",
       "3  Australia  2020-01-20  2020-01-26     4    25921089      66.627107   \n",
       "4  Australia  2020-01-27  2020-02-02     5    25921089       9.960440   \n",
       "\n",
       "   excess_deaths_per_100k  \n",
       "0               -0.151895  \n",
       "1               -0.210406  \n",
       "2               -0.069594  \n",
       "3                0.257038  \n",
       "4                0.038426  "
      ]
     },
     "execution_count": 9,
     "metadata": {},
     "output_type": "execute_result"
    }
   ],
   "source": [
    "kgl.head()"
   ]
  },
  {
   "cell_type": "code",
   "execution_count": 5,
   "id": "0f8c24af",
   "metadata": {},
   "outputs": [],
   "source": [
    "# create new variable that has dates in python's date format\n",
    "kgl['newstartdate']=pd.to_datetime(kgl['start_date'].copy())"
   ]
  },
  {
   "cell_type": "code",
   "execution_count": 6,
   "id": "14857bef",
   "metadata": {},
   "outputs": [
    {
     "name": "stdout",
     "output_type": "stream",
     "text": [
      "country                           object\n",
      "start_date                        object\n",
      "end_date                          object\n",
      "week                               int64\n",
      "population                         int64\n",
      "excess_deaths                    float64\n",
      "excess_deaths_per_100k           float64\n",
      "newstartdate              datetime64[ns]\n",
      "dtype: object\n"
     ]
    }
   ],
   "source": [
    "print(kgl.dtypes)"
   ]
  },
  {
   "cell_type": "code",
   "execution_count": 10,
   "id": "22ca960c",
   "metadata": {},
   "outputs": [],
   "source": [
    "# do the same for the end dates\n",
    "kgl['newenddate']=pd.to_datetime(kgl['end_date'])"
   ]
  },
  {
   "cell_type": "code",
   "execution_count": 12,
   "id": "0604a662",
   "metadata": {},
   "outputs": [],
   "source": [
    "# to estimate the period of the final combined dataset, we decided the common start and end dates for countries between datasets \n",
    "# we start with identifying the latest date a country begins to provide data \n",
    "lateststartdatekgl= kgl.groupby('country')['newstartdate'].min()"
   ]
  },
  {
   "cell_type": "code",
   "execution_count": 13,
   "id": "1b23ec33",
   "metadata": {},
   "outputs": [
    {
     "data": {
      "text/plain": [
       "array(['2019-12-30T00:00:00.000000000', '2019-12-28T00:00:00.000000000',\n",
       "       '2019-12-29T00:00:00.000000000'], dtype='datetime64[ns]')"
      ]
     },
     "execution_count": 13,
     "metadata": {},
     "output_type": "execute_result"
    }
   ],
   "source": [
    "#we see that the latest starting date is Dec 2019\n",
    "lateststartdatekgl.unique()"
   ]
  },
  {
   "cell_type": "code",
   "execution_count": 14,
   "id": "3c70803a",
   "metadata": {},
   "outputs": [],
   "source": [
    "# carry out the same process for the end date: these are the earliest dates a country ends their data output\n",
    "# we identify the earliest date a country ends their data output\n",
    "earliestenddatekgl= kgl.groupby('country')['newenddate'].max()"
   ]
  },
  {
   "cell_type": "code",
   "execution_count": 15,
   "id": "1071093e",
   "metadata": {
    "scrolled": true
   },
   "outputs": [
    {
     "data": {
      "text/html": [
       "<div>\n",
       "<style scoped>\n",
       "    .dataframe tbody tr th:only-of-type {\n",
       "        vertical-align: middle;\n",
       "    }\n",
       "\n",
       "    .dataframe tbody tr th {\n",
       "        vertical-align: top;\n",
       "    }\n",
       "\n",
       "    .dataframe thead th {\n",
       "        text-align: right;\n",
       "    }\n",
       "</style>\n",
       "<table border=\"1\" class=\"dataframe\">\n",
       "  <thead>\n",
       "    <tr style=\"text-align: right;\">\n",
       "      <th></th>\n",
       "      <th>newenddate</th>\n",
       "    </tr>\n",
       "    <tr>\n",
       "      <th>country</th>\n",
       "      <th></th>\n",
       "    </tr>\n",
       "  </thead>\n",
       "  <tbody>\n",
       "    <tr>\n",
       "      <th>Australia</th>\n",
       "      <td>2022-03-27</td>\n",
       "    </tr>\n",
       "    <tr>\n",
       "      <th>Austria</th>\n",
       "      <td>2022-07-03</td>\n",
       "    </tr>\n",
       "    <tr>\n",
       "      <th>Belgium</th>\n",
       "      <td>2022-06-19</td>\n",
       "    </tr>\n",
       "    <tr>\n",
       "      <th>Britain</th>\n",
       "      <td>2022-07-01</td>\n",
       "    </tr>\n",
       "    <tr>\n",
       "      <th>Bulgaria</th>\n",
       "      <td>2022-06-05</td>\n",
       "    </tr>\n",
       "    <tr>\n",
       "      <th>Canada</th>\n",
       "      <td>2022-02-26</td>\n",
       "    </tr>\n",
       "    <tr>\n",
       "      <th>Chile</th>\n",
       "      <td>2022-07-10</td>\n",
       "    </tr>\n",
       "    <tr>\n",
       "      <th>Colombia</th>\n",
       "      <td>2022-07-10</td>\n",
       "    </tr>\n",
       "    <tr>\n",
       "      <th>Croatia</th>\n",
       "      <td>2022-06-05</td>\n",
       "    </tr>\n",
       "    <tr>\n",
       "      <th>Cyprus</th>\n",
       "      <td>2022-06-05</td>\n",
       "    </tr>\n",
       "    <tr>\n",
       "      <th>Czech Republic</th>\n",
       "      <td>2022-05-29</td>\n",
       "    </tr>\n",
       "    <tr>\n",
       "      <th>Denmark</th>\n",
       "      <td>2022-07-10</td>\n",
       "    </tr>\n",
       "    <tr>\n",
       "      <th>Ecuador</th>\n",
       "      <td>2022-07-17</td>\n",
       "    </tr>\n",
       "    <tr>\n",
       "      <th>Estonia</th>\n",
       "      <td>2022-07-03</td>\n",
       "    </tr>\n",
       "    <tr>\n",
       "      <th>Finland</th>\n",
       "      <td>2022-06-05</td>\n",
       "    </tr>\n",
       "    <tr>\n",
       "      <th>France</th>\n",
       "      <td>2022-06-12</td>\n",
       "    </tr>\n",
       "    <tr>\n",
       "      <th>Germany</th>\n",
       "      <td>2022-07-03</td>\n",
       "    </tr>\n",
       "    <tr>\n",
       "      <th>Greece</th>\n",
       "      <td>2022-06-05</td>\n",
       "    </tr>\n",
       "    <tr>\n",
       "      <th>Guatemala</th>\n",
       "      <td>2021-12-26</td>\n",
       "    </tr>\n",
       "    <tr>\n",
       "      <th>Hungary</th>\n",
       "      <td>2022-06-05</td>\n",
       "    </tr>\n",
       "    <tr>\n",
       "      <th>Iceland</th>\n",
       "      <td>2022-06-05</td>\n",
       "    </tr>\n",
       "    <tr>\n",
       "      <th>Iran</th>\n",
       "      <td>2022-07-17</td>\n",
       "    </tr>\n",
       "    <tr>\n",
       "      <th>Israel</th>\n",
       "      <td>2022-07-03</td>\n",
       "    </tr>\n",
       "    <tr>\n",
       "      <th>Italy</th>\n",
       "      <td>2022-05-01</td>\n",
       "    </tr>\n",
       "    <tr>\n",
       "      <th>Latvia</th>\n",
       "      <td>2022-06-26</td>\n",
       "    </tr>\n",
       "    <tr>\n",
       "      <th>Lithuania</th>\n",
       "      <td>2022-06-12</td>\n",
       "    </tr>\n",
       "    <tr>\n",
       "      <th>Luxembourg</th>\n",
       "      <td>2022-06-05</td>\n",
       "    </tr>\n",
       "    <tr>\n",
       "      <th>Malta</th>\n",
       "      <td>2022-06-12</td>\n",
       "    </tr>\n",
       "    <tr>\n",
       "      <th>Mexico</th>\n",
       "      <td>2022-05-15</td>\n",
       "    </tr>\n",
       "    <tr>\n",
       "      <th>Montenegro</th>\n",
       "      <td>2021-10-31</td>\n",
       "    </tr>\n",
       "    <tr>\n",
       "      <th>Netherlands</th>\n",
       "      <td>2022-07-10</td>\n",
       "    </tr>\n",
       "    <tr>\n",
       "      <th>New Zealand</th>\n",
       "      <td>2022-07-03</td>\n",
       "    </tr>\n",
       "    <tr>\n",
       "      <th>Norway</th>\n",
       "      <td>2022-07-10</td>\n",
       "    </tr>\n",
       "    <tr>\n",
       "      <th>Peru</th>\n",
       "      <td>2022-07-10</td>\n",
       "    </tr>\n",
       "    <tr>\n",
       "      <th>Poland</th>\n",
       "      <td>2022-06-26</td>\n",
       "    </tr>\n",
       "    <tr>\n",
       "      <th>Portugal</th>\n",
       "      <td>2022-07-03</td>\n",
       "    </tr>\n",
       "    <tr>\n",
       "      <th>Romania</th>\n",
       "      <td>2022-05-29</td>\n",
       "    </tr>\n",
       "    <tr>\n",
       "      <th>Slovakia</th>\n",
       "      <td>2022-05-15</td>\n",
       "    </tr>\n",
       "    <tr>\n",
       "      <th>Slovenia</th>\n",
       "      <td>2022-06-19</td>\n",
       "    </tr>\n",
       "    <tr>\n",
       "      <th>South Africa</th>\n",
       "      <td>2022-07-23</td>\n",
       "    </tr>\n",
       "    <tr>\n",
       "      <th>South Korea</th>\n",
       "      <td>2022-05-01</td>\n",
       "    </tr>\n",
       "    <tr>\n",
       "      <th>Spain</th>\n",
       "      <td>2022-05-29</td>\n",
       "    </tr>\n",
       "    <tr>\n",
       "      <th>Sweden</th>\n",
       "      <td>2022-06-12</td>\n",
       "    </tr>\n",
       "    <tr>\n",
       "      <th>Switzerland</th>\n",
       "      <td>2022-06-26</td>\n",
       "    </tr>\n",
       "    <tr>\n",
       "      <th>Tunisia</th>\n",
       "      <td>2021-02-14</td>\n",
       "    </tr>\n",
       "    <tr>\n",
       "      <th>United States</th>\n",
       "      <td>2022-06-12</td>\n",
       "    </tr>\n",
       "  </tbody>\n",
       "</table>\n",
       "</div>"
      ],
      "text/plain": [
       "               newenddate\n",
       "country                  \n",
       "Australia      2022-03-27\n",
       "Austria        2022-07-03\n",
       "Belgium        2022-06-19\n",
       "Britain        2022-07-01\n",
       "Bulgaria       2022-06-05\n",
       "Canada         2022-02-26\n",
       "Chile          2022-07-10\n",
       "Colombia       2022-07-10\n",
       "Croatia        2022-06-05\n",
       "Cyprus         2022-06-05\n",
       "Czech Republic 2022-05-29\n",
       "Denmark        2022-07-10\n",
       "Ecuador        2022-07-17\n",
       "Estonia        2022-07-03\n",
       "Finland        2022-06-05\n",
       "France         2022-06-12\n",
       "Germany        2022-07-03\n",
       "Greece         2022-06-05\n",
       "Guatemala      2021-12-26\n",
       "Hungary        2022-06-05\n",
       "Iceland        2022-06-05\n",
       "Iran           2022-07-17\n",
       "Israel         2022-07-03\n",
       "Italy          2022-05-01\n",
       "Latvia         2022-06-26\n",
       "Lithuania      2022-06-12\n",
       "Luxembourg     2022-06-05\n",
       "Malta          2022-06-12\n",
       "Mexico         2022-05-15\n",
       "Montenegro     2021-10-31\n",
       "Netherlands    2022-07-10\n",
       "New Zealand    2022-07-03\n",
       "Norway         2022-07-10\n",
       "Peru           2022-07-10\n",
       "Poland         2022-06-26\n",
       "Portugal       2022-07-03\n",
       "Romania        2022-05-29\n",
       "Slovakia       2022-05-15\n",
       "Slovenia       2022-06-19\n",
       "South Africa   2022-07-23\n",
       "South Korea    2022-05-01\n",
       "Spain          2022-05-29\n",
       "Sweden         2022-06-12\n",
       "Switzerland    2022-06-26\n",
       "Tunisia        2021-02-14\n",
       "United States  2022-06-12"
      ]
     },
     "execution_count": 15,
     "metadata": {},
     "output_type": "execute_result"
    }
   ],
   "source": [
    "# change the groupby output to DF format to allow other commands to work on it\n",
    "earliestenddatekgl.to_frame()"
   ]
  },
  {
   "cell_type": "code",
   "execution_count": 16,
   "id": "1f6d524d",
   "metadata": {},
   "outputs": [
    {
     "data": {
      "text/plain": [
       "<matplotlib.axes._subplots.AxesSubplot at 0x1f445c75ec8>"
      ]
     },
     "execution_count": 16,
     "metadata": {},
     "output_type": "execute_result"
    },
    {
     "data": {
      "image/png": "[encoded data removed]",
      "text/plain": [
       "<Figure size 432x288 with 1 Axes>"
      ]
     },
     "metadata": {
      "needs_background": "light"
     },
     "output_type": "display_data"
    }
   ],
   "source": [
    "#this shows that most countries end their data in July 2022\n",
    "earliestenddatekgl.plot()"
   ]
  },
  {
   "cell_type": "code",
   "execution_count": 17,
   "id": "bc95de4d",
   "metadata": {
    "scrolled": true
   },
   "outputs": [
    {
     "data": {
      "text/plain": [
       "array(['2022-03-27T00:00:00.000000000', '2022-07-03T00:00:00.000000000',\n",
       "       '2022-06-19T00:00:00.000000000', '2022-07-01T00:00:00.000000000',\n",
       "       '2022-06-05T00:00:00.000000000', '2022-02-26T00:00:00.000000000',\n",
       "       '2022-07-10T00:00:00.000000000', '2022-05-29T00:00:00.000000000',\n",
       "       '2022-07-17T00:00:00.000000000', '2022-06-12T00:00:00.000000000',\n",
       "       '2021-12-26T00:00:00.000000000', '2022-05-01T00:00:00.000000000',\n",
       "       '2022-06-26T00:00:00.000000000', '2022-05-15T00:00:00.000000000',\n",
       "       '2021-10-31T00:00:00.000000000', '2022-07-23T00:00:00.000000000',\n",
       "       '2021-02-14T00:00:00.000000000'], dtype='datetime64[ns]')"
      ]
     },
     "execution_count": 17,
     "metadata": {},
     "output_type": "execute_result"
    }
   ],
   "source": [
    "earliestenddatekgl.unique()"
   ]
  },
  {
   "cell_type": "code",
   "execution_count": 136,
   "id": "a7514478",
   "metadata": {},
   "outputs": [],
   "source": [
    "#change 'newstartdate' to 'newdate' to allow merge on this variable with the OWID dataset\n",
    "kgl.rename(columns={'newstartdate':'newdate'}, inplace=True)"
   ]
  },
  {
   "cell_type": "code",
   "execution_count": 141,
   "id": "0f038aa4",
   "metadata": {},
   "outputs": [],
   "source": [
    "#drop unnecessary columns\n",
    "kgl.drop(['start_date', 'end_date', 'week', 'population', 'newenddate'], axis=1, inplace=True)"
   ]
  },
  {
   "cell_type": "code",
   "execution_count": 18,
   "id": "74cabb66",
   "metadata": {},
   "outputs": [],
   "source": [
    "#now we read in the 'our world in data (OWID)' file\n",
    "owiddf = pd.read_csv(\"owid-covid-data.csv\")"
   ]
  },
  {
   "cell_type": "code",
   "execution_count": 69,
   "id": "d5088264",
   "metadata": {},
   "outputs": [],
   "source": [
    "#select relevant columns & variables\n",
    "owid= owiddf[['location', 'date', 'new_cases', 'population']]"
   ]
  },
  {
   "cell_type": "code",
   "execution_count": 70,
   "id": "99e3ed38",
   "metadata": {},
   "outputs": [],
   "source": [
    "#repeat the process performed with the kaggle dataset above\n",
    "#make new date format date variable\n",
    "owid['newdate']=pd.to_datetime(owid['date'])"
   ]
  },
  {
   "cell_type": "code",
   "execution_count": 71,
   "id": "c2e36968",
   "metadata": {
    "scrolled": true
   },
   "outputs": [
    {
     "name": "stdout",
     "output_type": "stream",
     "text": [
      "location              object\n",
      "date                  object\n",
      "new_cases            float64\n",
      "population           float64\n",
      "newdate       datetime64[ns]\n",
      "dtype: object\n"
     ]
    }
   ],
   "source": [
    "print(owid.dtypes)"
   ]
  },
  {
   "cell_type": "code",
   "execution_count": 109,
   "id": "442e8655",
   "metadata": {
    "scrolled": false
   },
   "outputs": [],
   "source": [
    "owid['incidence']=owid['new_cases']/owid['population']*100000"
   ]
  },
  {
   "cell_type": "code",
   "execution_count": 113,
   "id": "939040bc",
   "metadata": {},
   "outputs": [
    {
     "data": {
      "text/html": [
       "<div>\n",
       "<style scoped>\n",
       "    .dataframe tbody tr th:only-of-type {\n",
       "        vertical-align: middle;\n",
       "    }\n",
       "\n",
       "    .dataframe tbody tr th {\n",
       "        vertical-align: top;\n",
       "    }\n",
       "\n",
       "    .dataframe thead th {\n",
       "        text-align: right;\n",
       "    }\n",
       "</style>\n",
       "<table border=\"1\" class=\"dataframe\">\n",
       "  <thead>\n",
       "    <tr style=\"text-align: right;\">\n",
       "      <th></th>\n",
       "      <th>country</th>\n",
       "      <th>date</th>\n",
       "      <th>new_cases</th>\n",
       "      <th>population</th>\n",
       "      <th>newdate</th>\n",
       "      <th>incidence</th>\n",
       "    </tr>\n",
       "  </thead>\n",
       "  <tbody>\n",
       "    <tr>\n",
       "      <th>0</th>\n",
       "      <td>Afghanistan</td>\n",
       "      <td>2020-02-24</td>\n",
       "      <td>5.0</td>\n",
       "      <td>41128772.0</td>\n",
       "      <td>2020-02-24</td>\n",
       "      <td>0.012157</td>\n",
       "    </tr>\n",
       "    <tr>\n",
       "      <th>1</th>\n",
       "      <td>Afghanistan</td>\n",
       "      <td>2020-02-25</td>\n",
       "      <td>0.0</td>\n",
       "      <td>41128772.0</td>\n",
       "      <td>2020-02-25</td>\n",
       "      <td>0.000000</td>\n",
       "    </tr>\n",
       "    <tr>\n",
       "      <th>2</th>\n",
       "      <td>Afghanistan</td>\n",
       "      <td>2020-02-26</td>\n",
       "      <td>0.0</td>\n",
       "      <td>41128772.0</td>\n",
       "      <td>2020-02-26</td>\n",
       "      <td>0.000000</td>\n",
       "    </tr>\n",
       "    <tr>\n",
       "      <th>3</th>\n",
       "      <td>Afghanistan</td>\n",
       "      <td>2020-02-27</td>\n",
       "      <td>0.0</td>\n",
       "      <td>41128772.0</td>\n",
       "      <td>2020-02-27</td>\n",
       "      <td>0.000000</td>\n",
       "    </tr>\n",
       "    <tr>\n",
       "      <th>4</th>\n",
       "      <td>Afghanistan</td>\n",
       "      <td>2020-02-28</td>\n",
       "      <td>0.0</td>\n",
       "      <td>41128772.0</td>\n",
       "      <td>2020-02-28</td>\n",
       "      <td>0.000000</td>\n",
       "    </tr>\n",
       "    <tr>\n",
       "      <th>...</th>\n",
       "      <td>...</td>\n",
       "      <td>...</td>\n",
       "      <td>...</td>\n",
       "      <td>...</td>\n",
       "      <td>...</td>\n",
       "      <td>...</td>\n",
       "    </tr>\n",
       "    <tr>\n",
       "      <th>252273</th>\n",
       "      <td>Zimbabwe</td>\n",
       "      <td>2023-01-19</td>\n",
       "      <td>0.0</td>\n",
       "      <td>16320539.0</td>\n",
       "      <td>2023-01-19</td>\n",
       "      <td>0.000000</td>\n",
       "    </tr>\n",
       "    <tr>\n",
       "      <th>252274</th>\n",
       "      <td>Zimbabwe</td>\n",
       "      <td>2023-01-20</td>\n",
       "      <td>0.0</td>\n",
       "      <td>16320539.0</td>\n",
       "      <td>2023-01-20</td>\n",
       "      <td>0.000000</td>\n",
       "    </tr>\n",
       "    <tr>\n",
       "      <th>252275</th>\n",
       "      <td>Zimbabwe</td>\n",
       "      <td>2023-01-21</td>\n",
       "      <td>0.0</td>\n",
       "      <td>16320539.0</td>\n",
       "      <td>2023-01-21</td>\n",
       "      <td>0.000000</td>\n",
       "    </tr>\n",
       "    <tr>\n",
       "      <th>252276</th>\n",
       "      <td>Zimbabwe</td>\n",
       "      <td>2023-01-22</td>\n",
       "      <td>0.0</td>\n",
       "      <td>16320539.0</td>\n",
       "      <td>2023-01-22</td>\n",
       "      <td>0.000000</td>\n",
       "    </tr>\n",
       "    <tr>\n",
       "      <th>252277</th>\n",
       "      <td>Zimbabwe</td>\n",
       "      <td>2023-01-23</td>\n",
       "      <td>0.0</td>\n",
       "      <td>16320539.0</td>\n",
       "      <td>2023-01-23</td>\n",
       "      <td>0.000000</td>\n",
       "    </tr>\n",
       "  </tbody>\n",
       "</table>\n",
       "<p>252278 rows × 6 columns</p>\n",
       "</div>"
      ],
      "text/plain": [
       "            country        date  new_cases  population    newdate  incidence\n",
       "0       Afghanistan  2020-02-24        5.0  41128772.0 2020-02-24   0.012157\n",
       "1       Afghanistan  2020-02-25        0.0  41128772.0 2020-02-25   0.000000\n",
       "2       Afghanistan  2020-02-26        0.0  41128772.0 2020-02-26   0.000000\n",
       "3       Afghanistan  2020-02-27        0.0  41128772.0 2020-02-27   0.000000\n",
       "4       Afghanistan  2020-02-28        0.0  41128772.0 2020-02-28   0.000000\n",
       "...             ...         ...        ...         ...        ...        ...\n",
       "252273     Zimbabwe  2023-01-19        0.0  16320539.0 2023-01-19   0.000000\n",
       "252274     Zimbabwe  2023-01-20        0.0  16320539.0 2023-01-20   0.000000\n",
       "252275     Zimbabwe  2023-01-21        0.0  16320539.0 2023-01-21   0.000000\n",
       "252276     Zimbabwe  2023-01-22        0.0  16320539.0 2023-01-22   0.000000\n",
       "252277     Zimbabwe  2023-01-23        0.0  16320539.0 2023-01-23   0.000000\n",
       "\n",
       "[252278 rows x 6 columns]"
      ]
     },
     "execution_count": 113,
     "metadata": {},
     "output_type": "execute_result"
    }
   ],
   "source": [
    "owid"
   ]
  },
  {
   "cell_type": "code",
   "execution_count": 114,
   "id": "ad4822b0",
   "metadata": {},
   "outputs": [],
   "source": [
    "#change the country info to the same name as the kaggle data\n",
    "owid.rename(columns={'location':'country'}, inplace=True)"
   ]
  },
  {
   "cell_type": "code",
   "execution_count": 118,
   "id": "855b4222",
   "metadata": {},
   "outputs": [],
   "source": [
    "#get latest 'start of data' date for each country\n",
    "lateststartdateowid= owid.groupby('country')['newdate'].min()"
   ]
  },
  {
   "cell_type": "code",
   "execution_count": 119,
   "id": "bcebea5e",
   "metadata": {},
   "outputs": [],
   "source": [
    "#change output to DF format\n",
    "lateststartdateowid= lateststartdateowid.to_frame()"
   ]
  },
  {
   "cell_type": "code",
   "execution_count": 120,
   "id": "38a9d9d1",
   "metadata": {},
   "outputs": [
    {
     "data": {
      "text/html": [
       "<div>\n",
       "<style scoped>\n",
       "    .dataframe tbody tr th:only-of-type {\n",
       "        vertical-align: middle;\n",
       "    }\n",
       "\n",
       "    .dataframe tbody tr th {\n",
       "        vertical-align: top;\n",
       "    }\n",
       "\n",
       "    .dataframe thead th {\n",
       "        text-align: right;\n",
       "    }\n",
       "</style>\n",
       "<table border=\"1\" class=\"dataframe\">\n",
       "  <thead>\n",
       "    <tr style=\"text-align: right;\">\n",
       "      <th></th>\n",
       "      <th>newdate</th>\n",
       "    </tr>\n",
       "  </thead>\n",
       "  <tbody>\n",
       "    <tr>\n",
       "      <th>count</th>\n",
       "      <td>248</td>\n",
       "    </tr>\n",
       "    <tr>\n",
       "      <th>unique</th>\n",
       "      <td>92</td>\n",
       "    </tr>\n",
       "    <tr>\n",
       "      <th>top</th>\n",
       "      <td>2020-03-14 00:00:00</td>\n",
       "    </tr>\n",
       "    <tr>\n",
       "      <th>freq</th>\n",
       "      <td>13</td>\n",
       "    </tr>\n",
       "    <tr>\n",
       "      <th>first</th>\n",
       "      <td>2020-01-01 00:00:00</td>\n",
       "    </tr>\n",
       "    <tr>\n",
       "      <th>last</th>\n",
       "      <td>2022-04-20 00:00:00</td>\n",
       "    </tr>\n",
       "  </tbody>\n",
       "</table>\n",
       "</div>"
      ],
      "text/plain": [
       "                    newdate\n",
       "count                   248\n",
       "unique                   92\n",
       "top     2020-03-14 00:00:00\n",
       "freq                     13\n",
       "first   2020-01-01 00:00:00\n",
       "last    2022-04-20 00:00:00"
      ]
     },
     "execution_count": 120,
     "metadata": {},
     "output_type": "execute_result"
    }
   ],
   "source": [
    "#this is later than the kaggle start date, so we use data from 1/3/2020\n",
    "lateststartdateowid.describe()"
   ]
  },
  {
   "cell_type": "code",
   "execution_count": 121,
   "id": "360d960a",
   "metadata": {
    "scrolled": false
   },
   "outputs": [
    {
     "data": {
      "text/plain": [
       "<matplotlib.axes._subplots.AxesSubplot at 0x1f446b35ac8>"
      ]
     },
     "execution_count": 121,
     "metadata": {},
     "output_type": "execute_result"
    },
    {
     "data": {
      "image/png": "[encoded data removed]",
      "text/plain": [
       "<Figure size 432x288 with 1 Axes>"
      ]
     },
     "metadata": {
      "needs_background": "light"
     },
     "output_type": "display_data"
    }
   ],
   "source": [
    "#visual representation showing the spread of data\n",
    "lateststartdateowid.plot()"
   ]
  },
  {
   "cell_type": "code",
   "execution_count": 122,
   "id": "8ddb0968",
   "metadata": {},
   "outputs": [],
   "source": [
    "#get earliest 'final data date' of each country\n",
    "earliestenddateowid= owid.groupby('country')['newdate'].max()"
   ]
  },
  {
   "cell_type": "code",
   "execution_count": 123,
   "id": "585d38b1",
   "metadata": {
    "scrolled": false
   },
   "outputs": [
    {
     "data": {
      "text/html": [
       "<div>\n",
       "<style scoped>\n",
       "    .dataframe tbody tr th:only-of-type {\n",
       "        vertical-align: middle;\n",
       "    }\n",
       "\n",
       "    .dataframe tbody tr th {\n",
       "        vertical-align: top;\n",
       "    }\n",
       "\n",
       "    .dataframe thead th {\n",
       "        text-align: right;\n",
       "    }\n",
       "</style>\n",
       "<table border=\"1\" class=\"dataframe\">\n",
       "  <thead>\n",
       "    <tr style=\"text-align: right;\">\n",
       "      <th></th>\n",
       "      <th>newdate</th>\n",
       "    </tr>\n",
       "    <tr>\n",
       "      <th>country</th>\n",
       "      <th></th>\n",
       "    </tr>\n",
       "  </thead>\n",
       "  <tbody>\n",
       "    <tr>\n",
       "      <th>Afghanistan</th>\n",
       "      <td>2023-01-23</td>\n",
       "    </tr>\n",
       "    <tr>\n",
       "      <th>Africa</th>\n",
       "      <td>2023-01-23</td>\n",
       "    </tr>\n",
       "    <tr>\n",
       "      <th>Albania</th>\n",
       "      <td>2023-01-23</td>\n",
       "    </tr>\n",
       "    <tr>\n",
       "      <th>Algeria</th>\n",
       "      <td>2023-01-23</td>\n",
       "    </tr>\n",
       "    <tr>\n",
       "      <th>Andorra</th>\n",
       "      <td>2023-01-23</td>\n",
       "    </tr>\n",
       "    <tr>\n",
       "      <th>...</th>\n",
       "      <td>...</td>\n",
       "    </tr>\n",
       "    <tr>\n",
       "      <th>Western Sahara</th>\n",
       "      <td>2022-04-20</td>\n",
       "    </tr>\n",
       "    <tr>\n",
       "      <th>World</th>\n",
       "      <td>2023-01-23</td>\n",
       "    </tr>\n",
       "    <tr>\n",
       "      <th>Yemen</th>\n",
       "      <td>2023-01-23</td>\n",
       "    </tr>\n",
       "    <tr>\n",
       "      <th>Zambia</th>\n",
       "      <td>2023-01-23</td>\n",
       "    </tr>\n",
       "    <tr>\n",
       "      <th>Zimbabwe</th>\n",
       "      <td>2023-01-23</td>\n",
       "    </tr>\n",
       "  </tbody>\n",
       "</table>\n",
       "<p>248 rows × 1 columns</p>\n",
       "</div>"
      ],
      "text/plain": [
       "                  newdate\n",
       "country                  \n",
       "Afghanistan    2023-01-23\n",
       "Africa         2023-01-23\n",
       "Albania        2023-01-23\n",
       "Algeria        2023-01-23\n",
       "Andorra        2023-01-23\n",
       "...                   ...\n",
       "Western Sahara 2022-04-20\n",
       "World          2023-01-23\n",
       "Yemen          2023-01-23\n",
       "Zambia         2023-01-23\n",
       "Zimbabwe       2023-01-23\n",
       "\n",
       "[248 rows x 1 columns]"
      ]
     },
     "execution_count": 123,
     "metadata": {},
     "output_type": "execute_result"
    }
   ],
   "source": [
    "earliestenddateowid.to_frame()"
   ]
  },
  {
   "cell_type": "code",
   "execution_count": 124,
   "id": "f96bf7b1",
   "metadata": {},
   "outputs": [
    {
     "data": {
      "text/plain": [
       "count                     248\n",
       "unique                     15\n",
       "top       2023-01-23 00:00:00\n",
       "freq                      232\n",
       "first     2021-12-04 00:00:00\n",
       "last      2023-01-23 00:00:00\n",
       "Name: newdate, dtype: object"
      ]
     },
     "execution_count": 124,
     "metadata": {},
     "output_type": "execute_result"
    }
   ],
   "source": [
    "earliestenddateowid.describe()"
   ]
  },
  {
   "cell_type": "code",
   "execution_count": 125,
   "id": "bc4ae475",
   "metadata": {
    "scrolled": true
   },
   "outputs": [
    {
     "data": {
      "text/plain": [
       "9"
      ]
     },
     "execution_count": 125,
     "metadata": {},
     "output_type": "execute_result"
    },
    {
     "data": {
      "image/png": "[encoded data removed]",
      "text/plain": [
       "<Figure size 432x288 with 1 Axes>"
      ]
     },
     "metadata": {
      "needs_background": "light"
     },
     "output_type": "display_data"
    }
   ],
   "source": [
    "#this is later than the kaggle data, so we use 31/7/2022 as the last date\n",
    "earliestenddateowid.plot()\n"
   ]
  },
  {
   "cell_type": "code",
   "execution_count": 132,
   "id": "90a63737",
   "metadata": {},
   "outputs": [],
   "source": [
    "owidweekly= owid"
   ]
  },
  {
   "cell_type": "code",
   "execution_count": 133,
   "id": "ce597db0",
   "metadata": {},
   "outputs": [
    {
     "name": "stdout",
     "output_type": "stream",
     "text": [
      "country               object\n",
      "date                  object\n",
      "new_cases            float64\n",
      "population           float64\n",
      "newdate       datetime64[ns]\n",
      "incidence            float64\n",
      "dtype: object\n"
     ]
    }
   ],
   "source": [
    "print(owid.dtypes)"
   ]
  },
  {
   "cell_type": "code",
   "execution_count": 134,
   "id": "825f3e38",
   "metadata": {},
   "outputs": [
    {
     "name": "stderr",
     "output_type": "stream",
     "text": [
      "C:\\Users\\akbab_000\\anaconda3\\envs\\PythonData\\lib\\site-packages\\ipykernel_launcher.py:1: FutureWarning: Indexing with multiple keys (implicitly converted to a tuple of keys) will be deprecated, use a list instead.\n",
      "  \"\"\"Entry point for launching an IPython kernel.\n"
     ]
    }
   ],
   "source": [
    "owidweekly= owid.groupby('country')['newdate', 'new_cases', 'incidence',].resample('W-Mon', label='right', closed='right', on='newdate').sum().reset_index()"
   ]
  },
  {
   "cell_type": "code",
   "execution_count": 135,
   "id": "5ea92f5b",
   "metadata": {
    "scrolled": true
   },
   "outputs": [
    {
     "data": {
      "text/html": [
       "<div>\n",
       "<style scoped>\n",
       "    .dataframe tbody tr th:only-of-type {\n",
       "        vertical-align: middle;\n",
       "    }\n",
       "\n",
       "    .dataframe tbody tr th {\n",
       "        vertical-align: top;\n",
       "    }\n",
       "\n",
       "    .dataframe thead th {\n",
       "        text-align: right;\n",
       "    }\n",
       "</style>\n",
       "<table border=\"1\" class=\"dataframe\">\n",
       "  <thead>\n",
       "    <tr style=\"text-align: right;\">\n",
       "      <th></th>\n",
       "      <th>country</th>\n",
       "      <th>newdate</th>\n",
       "      <th>new_cases</th>\n",
       "      <th>incidence</th>\n",
       "    </tr>\n",
       "  </thead>\n",
       "  <tbody>\n",
       "    <tr>\n",
       "      <th>0</th>\n",
       "      <td>Afghanistan</td>\n",
       "      <td>2020-02-24</td>\n",
       "      <td>5.0</td>\n",
       "      <td>0.012157</td>\n",
       "    </tr>\n",
       "    <tr>\n",
       "      <th>1</th>\n",
       "      <td>Afghanistan</td>\n",
       "      <td>2020-03-02</td>\n",
       "      <td>0.0</td>\n",
       "      <td>0.000000</td>\n",
       "    </tr>\n",
       "    <tr>\n",
       "      <th>2</th>\n",
       "      <td>Afghanistan</td>\n",
       "      <td>2020-03-09</td>\n",
       "      <td>3.0</td>\n",
       "      <td>0.007294</td>\n",
       "    </tr>\n",
       "    <tr>\n",
       "      <th>3</th>\n",
       "      <td>Afghanistan</td>\n",
       "      <td>2020-03-16</td>\n",
       "      <td>17.0</td>\n",
       "      <td>0.041334</td>\n",
       "    </tr>\n",
       "    <tr>\n",
       "      <th>4</th>\n",
       "      <td>Afghanistan</td>\n",
       "      <td>2020-03-23</td>\n",
       "      <td>17.0</td>\n",
       "      <td>0.041334</td>\n",
       "    </tr>\n",
       "    <tr>\n",
       "      <th>...</th>\n",
       "      <td>...</td>\n",
       "      <td>...</td>\n",
       "      <td>...</td>\n",
       "      <td>...</td>\n",
       "    </tr>\n",
       "    <tr>\n",
       "      <th>36166</th>\n",
       "      <td>Zimbabwe</td>\n",
       "      <td>2022-12-26</td>\n",
       "      <td>625.0</td>\n",
       "      <td>3.829530</td>\n",
       "    </tr>\n",
       "    <tr>\n",
       "      <th>36167</th>\n",
       "      <td>Zimbabwe</td>\n",
       "      <td>2023-01-02</td>\n",
       "      <td>0.0</td>\n",
       "      <td>0.000000</td>\n",
       "    </tr>\n",
       "    <tr>\n",
       "      <th>36168</th>\n",
       "      <td>Zimbabwe</td>\n",
       "      <td>2023-01-09</td>\n",
       "      <td>0.0</td>\n",
       "      <td>0.000000</td>\n",
       "    </tr>\n",
       "    <tr>\n",
       "      <th>36169</th>\n",
       "      <td>Zimbabwe</td>\n",
       "      <td>2023-01-16</td>\n",
       "      <td>0.0</td>\n",
       "      <td>0.000000</td>\n",
       "    </tr>\n",
       "    <tr>\n",
       "      <th>36170</th>\n",
       "      <td>Zimbabwe</td>\n",
       "      <td>2023-01-23</td>\n",
       "      <td>0.0</td>\n",
       "      <td>0.000000</td>\n",
       "    </tr>\n",
       "  </tbody>\n",
       "</table>\n",
       "<p>36171 rows × 4 columns</p>\n",
       "</div>"
      ],
      "text/plain": [
       "           country    newdate  new_cases  incidence\n",
       "0      Afghanistan 2020-02-24        5.0   0.012157\n",
       "1      Afghanistan 2020-03-02        0.0   0.000000\n",
       "2      Afghanistan 2020-03-09        3.0   0.007294\n",
       "3      Afghanistan 2020-03-16       17.0   0.041334\n",
       "4      Afghanistan 2020-03-23       17.0   0.041334\n",
       "...            ...        ...        ...        ...\n",
       "36166     Zimbabwe 2022-12-26      625.0   3.829530\n",
       "36167     Zimbabwe 2023-01-02        0.0   0.000000\n",
       "36168     Zimbabwe 2023-01-09        0.0   0.000000\n",
       "36169     Zimbabwe 2023-01-16        0.0   0.000000\n",
       "36170     Zimbabwe 2023-01-23        0.0   0.000000\n",
       "\n",
       "[36171 rows x 4 columns]"
      ]
     },
     "execution_count": 135,
     "metadata": {},
     "output_type": "execute_result"
    }
   ],
   "source": [
    "owidweekly"
   ]
  },
  {
   "cell_type": "code",
   "execution_count": 145,
   "id": "beaa2d3c",
   "metadata": {},
   "outputs": [],
   "source": [
    "#merge on country and dates that fall between 1/3/20 and 31/7/22\n",
    "mergeddf= owidweekly.merge(kgl, on=['country', 'newdate'])"
   ]
  },
  {
   "cell_type": "code",
   "execution_count": 146,
   "id": "679bc664",
   "metadata": {
    "scrolled": true
   },
   "outputs": [
    {
     "data": {
      "text/html": [
       "<div>\n",
       "<style scoped>\n",
       "    .dataframe tbody tr th:only-of-type {\n",
       "        vertical-align: middle;\n",
       "    }\n",
       "\n",
       "    .dataframe tbody tr th {\n",
       "        vertical-align: top;\n",
       "    }\n",
       "\n",
       "    .dataframe thead th {\n",
       "        text-align: right;\n",
       "    }\n",
       "</style>\n",
       "<table border=\"1\" class=\"dataframe\">\n",
       "  <thead>\n",
       "    <tr style=\"text-align: right;\">\n",
       "      <th></th>\n",
       "      <th>country</th>\n",
       "      <th>newdate</th>\n",
       "      <th>new_cases</th>\n",
       "      <th>incidence</th>\n",
       "      <th>excess_deaths</th>\n",
       "      <th>excess_deaths_per_100k</th>\n",
       "    </tr>\n",
       "  </thead>\n",
       "  <tbody>\n",
       "    <tr>\n",
       "      <th>0</th>\n",
       "      <td>Australia</td>\n",
       "      <td>2020-01-27</td>\n",
       "      <td>5.0</td>\n",
       "      <td>0.019100</td>\n",
       "      <td>9.960440</td>\n",
       "      <td>0.038426</td>\n",
       "    </tr>\n",
       "    <tr>\n",
       "      <th>1</th>\n",
       "      <td>Australia</td>\n",
       "      <td>2020-02-03</td>\n",
       "      <td>7.0</td>\n",
       "      <td>0.026741</td>\n",
       "      <td>-14.706227</td>\n",
       "      <td>-0.056735</td>\n",
       "    </tr>\n",
       "    <tr>\n",
       "      <th>2</th>\n",
       "      <td>Australia</td>\n",
       "      <td>2020-02-10</td>\n",
       "      <td>3.0</td>\n",
       "      <td>0.011460</td>\n",
       "      <td>93.627107</td>\n",
       "      <td>0.361201</td>\n",
       "    </tr>\n",
       "    <tr>\n",
       "      <th>3</th>\n",
       "      <td>Australia</td>\n",
       "      <td>2020-02-17</td>\n",
       "      <td>0.0</td>\n",
       "      <td>0.000000</td>\n",
       "      <td>69.960440</td>\n",
       "      <td>0.269898</td>\n",
       "    </tr>\n",
       "    <tr>\n",
       "      <th>4</th>\n",
       "      <td>Australia</td>\n",
       "      <td>2020-02-24</td>\n",
       "      <td>0.0</td>\n",
       "      <td>0.000000</td>\n",
       "      <td>137.352528</td>\n",
       "      <td>0.529887</td>\n",
       "    </tr>\n",
       "    <tr>\n",
       "      <th>...</th>\n",
       "      <td>...</td>\n",
       "      <td>...</td>\n",
       "      <td>...</td>\n",
       "      <td>...</td>\n",
       "      <td>...</td>\n",
       "      <td>...</td>\n",
       "    </tr>\n",
       "    <tr>\n",
       "      <th>4953</th>\n",
       "      <td>United States</td>\n",
       "      <td>2022-05-09</td>\n",
       "      <td>544134.0</td>\n",
       "      <td>160.848453</td>\n",
       "      <td>2353.085593</td>\n",
       "      <td>0.698250</td>\n",
       "    </tr>\n",
       "    <tr>\n",
       "      <th>4954</th>\n",
       "      <td>United States</td>\n",
       "      <td>2022-05-16</td>\n",
       "      <td>652672.0</td>\n",
       "      <td>192.932773</td>\n",
       "      <td>2564.685593</td>\n",
       "      <td>0.761040</td>\n",
       "    </tr>\n",
       "    <tr>\n",
       "      <th>4955</th>\n",
       "      <td>United States</td>\n",
       "      <td>2022-05-23</td>\n",
       "      <td>764008.0</td>\n",
       "      <td>225.844194</td>\n",
       "      <td>2108.485593</td>\n",
       "      <td>0.625668</td>\n",
       "    </tr>\n",
       "    <tr>\n",
       "      <th>4956</th>\n",
       "      <td>United States</td>\n",
       "      <td>2022-05-30</td>\n",
       "      <td>621708.0</td>\n",
       "      <td>183.779676</td>\n",
       "      <td>3085.285593</td>\n",
       "      <td>0.915521</td>\n",
       "    </tr>\n",
       "    <tr>\n",
       "      <th>4957</th>\n",
       "      <td>United States</td>\n",
       "      <td>2022-06-06</td>\n",
       "      <td>879501.0</td>\n",
       "      <td>259.984444</td>\n",
       "      <td>2786.685593</td>\n",
       "      <td>0.826916</td>\n",
       "    </tr>\n",
       "  </tbody>\n",
       "</table>\n",
       "<p>4958 rows × 6 columns</p>\n",
       "</div>"
      ],
      "text/plain": [
       "            country    newdate  new_cases   incidence  excess_deaths  \\\n",
       "0         Australia 2020-01-27        5.0    0.019100       9.960440   \n",
       "1         Australia 2020-02-03        7.0    0.026741     -14.706227   \n",
       "2         Australia 2020-02-10        3.0    0.011460      93.627107   \n",
       "3         Australia 2020-02-17        0.0    0.000000      69.960440   \n",
       "4         Australia 2020-02-24        0.0    0.000000     137.352528   \n",
       "...             ...        ...        ...         ...            ...   \n",
       "4953  United States 2022-05-09   544134.0  160.848453    2353.085593   \n",
       "4954  United States 2022-05-16   652672.0  192.932773    2564.685593   \n",
       "4955  United States 2022-05-23   764008.0  225.844194    2108.485593   \n",
       "4956  United States 2022-05-30   621708.0  183.779676    3085.285593   \n",
       "4957  United States 2022-06-06   879501.0  259.984444    2786.685593   \n",
       "\n",
       "      excess_deaths_per_100k  \n",
       "0                   0.038426  \n",
       "1                  -0.056735  \n",
       "2                   0.361201  \n",
       "3                   0.269898  \n",
       "4                   0.529887  \n",
       "...                      ...  \n",
       "4953                0.698250  \n",
       "4954                0.761040  \n",
       "4955                0.625668  \n",
       "4956                0.915521  \n",
       "4957                0.826916  \n",
       "\n",
       "[4958 rows x 6 columns]"
      ]
     },
     "execution_count": 146,
     "metadata": {},
     "output_type": "execute_result"
    }
   ],
   "source": [
    "mergeddf"
   ]
  }
 ],
 "metadata": {
  "kernelspec": {
   "display_name": "Python 3 (ipykernel)",
   "language": "python",
   "name": "python3"
  },
  "language_info": {
   "codemirror_mode": {
    "name": "ipython",
    "version": 3
   },
   "file_extension": ".py",
   "mimetype": "text/x-python",
   "name": "python",
   "nbconvert_exporter": "python",
   "pygments_lexer": "ipython3",
   "version": "3.7.7"
  }
 },
 "nbformat": 4,
 "nbformat_minor": 5
}
